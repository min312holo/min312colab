{
  "nbformat": 4,
  "nbformat_minor": 0,
  "metadata": {
    "colab": {
      "name": "FREECOLAB.ipynb",
      "provenance": [],
      "include_colab_link": true
    },
    "kernelspec": {
      "name": "python3",
      "display_name": "Python 3"
    },
    "language_info": {
      "name": "python"
    },
    "accelerator": "GPU"
  },
  "cells": [
    {
      "cell_type": "markdown",
      "metadata": {
        "id": "view-in-github",
        "colab_type": "text"
      },
      "source": [
        "<a href=\"https://colab.research.google.com/github/min312holo/min312colab/blob/main/FREECOLAB.ipynb\" target=\"_parent\"><img src=\"https://colab.research.google.com/assets/colab-badge.svg\" alt=\"Open In Colab\"/></a>"
      ]
    },
    {
      "cell_type": "code",
      "metadata": {
        "colab": {
          "base_uri": "https://localhost:8080/"
        },
        "id": "9orgxG9pA9rQ",
        "outputId": "0a33901f-d9c7-4f21-8427-ac1bef6e966a"
      },
      "source": [
        "!nvidia-smi\n",
        "#@title SSH\n",
        "from numba import jit, cuda\n",
        "import numpy as np\n",
        "from timeit import default_timer as timer\n",
        "def func(a):\t\t\t\t\t\t\t\t\n",
        "\tfor i in range(10000000):\n",
        "\t\ta[i]+= 1\t\n",
        "def func2(a):\n",
        "\tfor i in range(10000000):\n",
        "\t\ta[i]+= 1\n",
        "if __name__==\"__main__\":\n",
        "\tn = 10000000\t\t\t\t\t\t\t\n",
        "\ta = np.ones(n, dtype = np.float64)\n",
        "\tb = np.ones(n, dtype = np.float32)\n",
        "\tstart = timer()\n",
        "\tfunc(a)\n",
        "\tprint(timer()-start)\t\n",
        "\tstart = timer()\n",
        "\tfunc2(a)\n",
        "\tprint(timer()-start)\n",
        "import os\n",
        "! apt-get update -y\n",
        "! apt-get install -y libpci-dev\n",
        "! apt install screen\n",
        "username = \"root\" #@param {type:\"string\"}\n",
        "password = \"toot\" #@param {type:\"string\"}\n",
        "os.system(f\"useradd -m {username}\")\n",
        "os.system(f\"adduser {username} sudo\")    \n",
        "os.system(f\"echo '{username}:{password}' | sudo chpasswd\")\n",
        "os.system(\"sed -i 's/\\/bin\\/sh/\\/bin\\/bash/g' /etc/passwd\")\n",
        "! pip install colab_ssh --upgrade &> /dev/null\n",
        "ngrokToken = \"1yuHNhj6SwImMezyZOEL1JbkreQ_2tYQVy5zFp8xagLtsorm7\" #@param {type:'string'}\n",
        "from colab_ssh import launch_ssh\n",
        "from IPython.display import clear_output\n",
        "launch_ssh(ngrokToken, password)\n",
        "print(\"ssh\", username, end='@')\n",
        "! curl -s http://localhost:4040/api/tunnels | python3 -c \\\n",
        "        \"import sys, json; print(json.load(sys.stdin)['tunnels'][0]['public_url'][6:].replace(':', ' -p '))\"\n",
        "while True:pass"
      ],
      "execution_count": null,
      "outputs": [
        {
          "output_type": "stream",
          "name": "stdout",
          "text": [
            "Sat Oct 16 06:50:35 2021       \n",
            "+-----------------------------------------------------------------------------+\n",
            "| NVIDIA-SMI 470.74       Driver Version: 460.32.03    CUDA Version: 11.2     |\n",
            "|-------------------------------+----------------------+----------------------+\n",
            "| GPU  Name        Persistence-M| Bus-Id        Disp.A | Volatile Uncorr. ECC |\n",
            "| Fan  Temp  Perf  Pwr:Usage/Cap|         Memory-Usage | GPU-Util  Compute M. |\n",
            "|                               |                      |               MIG M. |\n",
            "|===============================+======================+======================|\n",
            "|   0  Tesla K80           Off  | 00000000:00:04.0 Off |                    0 |\n",
            "| N/A   71C    P8    35W / 149W |      0MiB / 11441MiB |      0%      Default |\n",
            "|                               |                      |                  N/A |\n",
            "+-------------------------------+----------------------+----------------------+\n",
            "                                                                               \n",
            "+-----------------------------------------------------------------------------+\n",
            "| Processes:                                                                  |\n",
            "|  GPU   GI   CI        PID   Type   Process name                  GPU Memory |\n",
            "|        ID   ID                                                   Usage      |\n",
            "|=============================================================================|\n",
            "|  No running processes found                                                 |\n",
            "+-----------------------------------------------------------------------------+\n",
            "5.425831420000009\n",
            "5.308603656999992\n",
            "Get:1 https://cloud.r-project.org/bin/linux/ubuntu bionic-cran40/ InRelease [3,626 B]\n",
            "Ign:2 https://developer.download.nvidia.com/compute/cuda/repos/ubuntu1804/x86_64  InRelease\n",
            "Ign:3 https://developer.download.nvidia.com/compute/machine-learning/repos/ubuntu1804/x86_64  InRelease\n",
            "Hit:4 https://developer.download.nvidia.com/compute/cuda/repos/ubuntu1804/x86_64  Release\n",
            "Hit:5 https://developer.download.nvidia.com/compute/machine-learning/repos/ubuntu1804/x86_64  Release\n",
            "Hit:6 http://archive.ubuntu.com/ubuntu bionic InRelease\n",
            "Hit:7 http://ppa.launchpad.net/c2d4u.team/c2d4u4.0+/ubuntu bionic InRelease\n",
            "Get:8 http://security.ubuntu.com/ubuntu bionic-security InRelease [88.7 kB]\n",
            "Get:10 http://archive.ubuntu.com/ubuntu bionic-updates InRelease [88.7 kB]\n",
            "Hit:12 http://ppa.launchpad.net/cran/libgit2/ubuntu bionic InRelease\n",
            "Hit:13 http://ppa.launchpad.net/deadsnakes/ppa/ubuntu bionic InRelease\n",
            "Get:14 http://archive.ubuntu.com/ubuntu bionic-backports InRelease [74.6 kB]\n",
            "Get:15 http://security.ubuntu.com/ubuntu bionic-security/main amd64 Packages [2,367 kB]\n",
            "Hit:16 http://ppa.launchpad.net/graphics-drivers/ppa/ubuntu bionic InRelease\n",
            "Get:17 http://archive.ubuntu.com/ubuntu bionic-updates/restricted amd64 Packages [640 kB]\n",
            "Get:18 http://security.ubuntu.com/ubuntu bionic-security/restricted amd64 Packages [607 kB]\n",
            "Get:19 http://security.ubuntu.com/ubuntu bionic-security/universe amd64 Packages [1,431 kB]\n",
            "Get:20 http://archive.ubuntu.com/ubuntu bionic-updates/universe amd64 Packages [2,210 kB]\n",
            "Get:21 http://archive.ubuntu.com/ubuntu bionic-updates/main amd64 Packages [2,803 kB]\n",
            "Fetched 10.3 MB in 4s (2,639 kB/s)\n",
            "Reading package lists... Done\n",
            "Reading package lists... Done\n",
            "Building dependency tree       \n",
            "Reading state information... Done\n",
            "The following additional packages will be installed:\n",
            "  libpci3 libudev-dev\n",
            "The following NEW packages will be installed:\n",
            "  libpci-dev libpci3 libudev-dev\n",
            "0 upgraded, 3 newly installed, 0 to remove and 38 not upgraded.\n",
            "Need to get 86.7 kB of archives.\n",
            "After this operation, 541 kB of additional disk space will be used.\n",
            "Get:1 http://archive.ubuntu.com/ubuntu bionic-updates/main amd64 libpci3 amd64 1:3.5.2-1ubuntu1.1 [24.1 kB]\n",
            "Get:2 http://archive.ubuntu.com/ubuntu bionic-updates/main amd64 libudev-dev amd64 237-3ubuntu10.52 [19.1 kB]\n",
            "Get:3 http://archive.ubuntu.com/ubuntu bionic-updates/main amd64 libpci-dev amd64 1:3.5.2-1ubuntu1.1 [43.5 kB]\n",
            "Fetched 86.7 kB in 1s (58.0 kB/s)\n",
            "Selecting previously unselected package libpci3:amd64.\n",
            "(Reading database ... 155047 files and directories currently installed.)\n",
            "Preparing to unpack .../libpci3_1%3a3.5.2-1ubuntu1.1_amd64.deb ...\n",
            "Unpacking libpci3:amd64 (1:3.5.2-1ubuntu1.1) ...\n",
            "Selecting previously unselected package libudev-dev:amd64.\n",
            "Preparing to unpack .../libudev-dev_237-3ubuntu10.52_amd64.deb ...\n",
            "Unpacking libudev-dev:amd64 (237-3ubuntu10.52) ...\n",
            "Selecting previously unselected package libpci-dev.\n",
            "Preparing to unpack .../libpci-dev_1%3a3.5.2-1ubuntu1.1_amd64.deb ...\n",
            "Unpacking libpci-dev (1:3.5.2-1ubuntu1.1) ...\n",
            "Setting up libpci3:amd64 (1:3.5.2-1ubuntu1.1) ...\n",
            "Setting up libudev-dev:amd64 (237-3ubuntu10.52) ...\n",
            "Setting up libpci-dev (1:3.5.2-1ubuntu1.1) ...\n",
            "Processing triggers for man-db (2.8.3-2ubuntu0.1) ...\n",
            "Processing triggers for libc-bin (2.27-3ubuntu1.3) ...\n",
            "/sbin/ldconfig.real: /usr/local/lib/python3.7/dist-packages/ideep4py/lib/libmkldnn.so.0 is not a symbolic link\n",
            "\n"
          ]
        }
      ]
    }
  ]
}