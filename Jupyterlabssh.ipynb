{
  "nbformat": 4,
  "nbformat_minor": 0,
  "metadata": {
    "colab": {
      "name": "Untitled0.ipynb",
      "provenance": [],
      "include_colab_link": true
    },
    "kernelspec": {
      "name": "python3",
      "display_name": "Python 3"
    },
    "language_info": {
      "name": "python"
    }
  },
  "cells": [
    {
      "cell_type": "markdown",
      "metadata": {
        "id": "view-in-github",
        "colab_type": "text"
      },
      "source": [
        "<a href=\"https://colab.research.google.com/github/min312holo/min312colab/blob/main/Jupyterlabssh.ipynb\" target=\"_parent\"><img src=\"https://colab.research.google.com/assets/colab-badge.svg\" alt=\"Open In Colab\"/></a>"
      ]
    },
    {
      "cell_type": "code",
      "metadata": {
        "colab": {
          "base_uri": "https://localhost:8080/"
        },
        "id": "K0VBAZnWOtFf",
        "outputId": "5b921bdf-c652-45f9-ffaa-a617d80219c0"
      },
      "source": [
        "# Install jupyterlab and ngrok\n",
        "!apt-get install tmux && pip install jupyter lab\n",
        "!pip install jupyterlab==2.2.9 pyngrok -q\n",
        "! apt install screen\n",
        "# Run jupyterlab in background\n",
        "!nohup jupyter lab --ip=0.0.0.0 &\n",
        "!jupyter lab --ip 0.0.0.0 --port 56784\n",
        "!tmux\n",
        "# Make jupyterlab accessible via ngrok\n",
        "from pyngrok import ngrok\n",
        "print(ngrok.connect(8888))"
      ],
      "execution_count": null,
      "outputs": [
        {
          "output_type": "stream",
          "name": "stdout",
          "text": [
            "\u001b[K     |████████████████████████████████| 7.9 MB 17.4 MB/s \n",
            "\u001b[K     |████████████████████████████████| 745 kB 19.6 MB/s \n",
            "\u001b[K     |████████████████████████████████| 69 kB 7.1 MB/s \n",
            "\u001b[?25h  Building wheel for pyngrok (setup.py) ... \u001b[?25l\u001b[?25hdone\n",
            "\u001b[31mERROR: pip's dependency resolver does not currently take into account all the packages that are installed. This behaviour is the source of the following dependency conflicts.\n",
            "nbclient 0.5.4 requires jupyter-client>=6.1.5, but you have jupyter-client 5.3.5 which is incompatible.\u001b[0m\n",
            "nohup: appending output to 'nohup.out'\n",
            "NgrokTunnel: \"http://925d-34-86-212-250.ngrok.io\" -> \"http://localhost:8888\"\n"
          ]
        }
      ]
    },
    {
      "cell_type": "code",
      "metadata": {
        "id": "hL-s5GOPRkBf"
      },
      "source": [
        "while True:pass"
      ],
      "execution_count": null,
      "outputs": []
    }
  ]
}